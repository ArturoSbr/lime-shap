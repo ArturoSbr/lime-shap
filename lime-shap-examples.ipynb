{
  "cells": [
    {
      "cell_type": "markdown",
      "metadata": {},
      "source": [
        "# Interpreting Machine Learning models using LIME and SHAP\n",
        "This notebook briefly shows how to use LIME and SHAP to explain any kind of AI model.\n",
        "\n",
        "We will first cover LIME and then we will move on to SHAP.\n",
        "\n",
        "## LIME\n",
        "Import LIME and Vader"
      ]
    },
    {
      "cell_type": "code",
      "execution_count": null,
      "metadata": {
        "id": "kX-tXwKHsyvp"
      },
      "outputs": [],
      "source": [
        "# Import vader model and LIME for text\n",
        "from vaderSentiment.vaderSentiment import SentimentIntensityAnalyzer\n",
        "from lime.lime_text import LimeTextExplainer\n",
        "\n",
        "# Import numpy for formatting\n",
        "import numpy as np"
      ]
    },
    {
      "cell_type": "markdown",
      "metadata": {
        "id": "r7j1_s-SLeaT"
      },
      "source": [
        "The object containing the trained model must be compatible with LIME. In particular, the object needs to have a `predict_proba` method.\n",
        "\n",
        "Hence, we'll add a new method to the Vader class."
      ]
    },
    {
      "cell_type": "code",
      "execution_count": null,
      "metadata": {
        "id": "nzXbhJHO71Gi"
      },
      "outputs": [],
      "source": [
        "# Declare a function that can score multiple texts\n",
        "def predict_proba(self, texts):\n",
        "\n",
        "  # Initialize empty list\n",
        "  ret = []\n",
        "\n",
        "  # Iterate over texts\n",
        "  for text in texts:\n",
        "\n",
        "    # Get negative score\n",
        "    neg = self.polarity_scores(text).get('neg')\n",
        "\n",
        "    # Return two outputs: (neg) and (1 - neg)\n",
        "    ret.append([neg, 1 - neg])\n",
        "\n",
        "  # Return predictions\n",
        "  return np.array(ret)\n",
        "\n",
        "# Add the function as a method\n",
        "SentimentIntensityAnalyzer.predict_proba = predict_proba\n",
        "\n",
        "# Instantiate model\n",
        "vader = SentimentIntensityAnalyzer()"
      ]
    },
    {
      "cell_type": "markdown",
      "metadata": {
        "id": "cztXqdLgLkcE"
      },
      "source": [
        "Try on text"
      ]
    },
    {
      "cell_type": "code",
      "execution_count": null,
      "metadata": {
        "colab": {
          "base_uri": "https://localhost:8080/",
          "height": 237
        },
        "id": "V0UyITlfPNbu",
        "outputId": "8f0ce496-23f7-4be4-e3c0-0ff7fce6b6c4"
      },
      "outputs": [],
      "source": [
        "# Declare text\n",
        "my_angry_text = 'I HATE Mondays! I missed the bus and forgot my lunch...'\n",
        "\n",
        "# Instantiate explainer\n",
        "explainer = LimeTextExplainer(class_names=['negative', 'not-negative'])\n",
        "\n",
        "# Create explanation for text\n",
        "explanation = explainer.explain_instance(\n",
        "    my_angry_text,\n",
        "    vader.predict_proba,\n",
        "    num_features=4\n",
        ")\n",
        "\n",
        "# Show explanation\n",
        "explanation.show_in_notebook()"
      ]
    },
    {
      "cell_type": "markdown",
      "metadata": {
        "id": "PtUcXesSLnAH"
      },
      "source": [
        "# SHAP\n",
        "\n",
        "Import SHAP"
      ]
    },
    {
      "cell_type": "code",
      "execution_count": null,
      "metadata": {
        "id": "vzG7W1COr3uq"
      },
      "outputs": [],
      "source": [
        "%%capture\n",
        "\n",
        "# Install shap\n",
        "!pip install shap\n",
        "\n",
        "# Import dependencies\n",
        "import shap\n",
        "import pandas as pd\n",
        "from sklearn.datasets import load_diabetes\n",
        "from sklearn.linear_model import LinearRegression"
      ]
    },
    {
      "cell_type": "code",
      "execution_count": null,
      "metadata": {
        "colab": {
          "base_uri": "https://localhost:8080/"
        },
        "id": "-pv87oPPr4Ga",
        "outputId": "4cd3e60c-18bf-494a-ff5f-04231680c3d2"
      },
      "outputs": [],
      "source": [
        "# Load features as pandas dataframe\n",
        "X = pd.DataFrame(\n",
        "    data=load_diabetes()['data'],\n",
        "    columns=load_diabetes()['feature_names']\n",
        ")\n",
        "\n",
        "# Load target\n",
        "y = load_diabetes()['target']\n",
        "\n",
        "# Instantiate model\n",
        "model = LinearRegression()\n",
        "\n",
        "# Fit model to data\n",
        "model.fit(X=X, y=y)"
      ]
    },
    {
      "cell_type": "markdown",
      "metadata": {
        "id": "QObTIk1Px94A"
      },
      "source": [
        "Partial dependence plot"
      ]
    },
    {
      "cell_type": "code",
      "execution_count": null,
      "metadata": {
        "colab": {
          "base_uri": "https://localhost:8080/",
          "height": 296
        },
        "id": "njS61AtMr4Jo",
        "outputId": "d7d04358-5eaf-4974-dc26-d0fe5ba8f400"
      },
      "outputs": [],
      "source": [
        "# Draw sample of 200 observations\n",
        "sample = shap.utils.sample(X=X, nsamples=200)\n",
        "\n",
        "# Partial dependence plot for body-mass index variable\n",
        "shap.partial_dependence_plot(\n",
        "    ind='bmi',\n",
        "    model=model.predict,\n",
        "    data=sample,\n",
        "    ice=False,\n",
        "    model_expected_value=True,\n",
        "    feature_expected_value=True\n",
        ")"
      ]
    },
    {
      "cell_type": "markdown",
      "metadata": {
        "id": "2GJk5Miuz6JH"
      },
      "source": [
        "Explain 42nd observation."
      ]
    },
    {
      "cell_type": "code",
      "execution_count": null,
      "metadata": {
        "colab": {
          "base_uri": "https://localhost:8080/"
        },
        "id": "Lm5BZeVuTRi-",
        "outputId": "d58ad986-4ee4-4b2c-c2c9-630dfcbe52b6"
      },
      "outputs": [],
      "source": [
        "print(sample.iloc[[42], :])"
      ]
    },
    {
      "cell_type": "code",
      "execution_count": null,
      "metadata": {
        "id": "ePl3ODlE0Xs-"
      },
      "outputs": [],
      "source": [
        "explainer = shap.Explainer(\n",
        "    model=model.predict\n",
        ")"
      ]
    },
    {
      "cell_type": "code",
      "execution_count": null,
      "metadata": {
        "colab": {
          "base_uri": "https://localhost:8080/",
          "height": 296
        },
        "id": "Fx3xK1ZyGRyu",
        "outputId": "c4bacf5b-493a-4152-ff41-6380a67f6bf6"
      },
      "outputs": [],
      "source": [
        "# Instantiate explainer\n",
        "explainer = shap.Explainer(\n",
        "    model=model.predict,\n",
        "    masker=sample\n",
        ")\n",
        "\n",
        "# Calculate SHAP values\n",
        "shap_values = explainer(sample)\n",
        "\n",
        "# Pick 42nd observation from sample to explain\n",
        "idx = 42\n",
        "\n",
        "# Partial dependence plot for body-mass index variable\n",
        "shap.partial_dependence_plot(\n",
        "    ind='bmi',\n",
        "    model=model.predict,\n",
        "    data=sample,\n",
        "    ice=False,\n",
        "    model_expected_value=True,\n",
        "    feature_expected_value=True,\n",
        "    hist=True,\n",
        "    shap_values=shap_values[idx:idx+1]\n",
        ")"
      ]
    },
    {
      "cell_type": "code",
      "execution_count": null,
      "metadata": {
        "colab": {
          "base_uri": "https://localhost:8080/",
          "height": 444
        },
        "id": "40gzgYezHvLn",
        "outputId": "0d9f0bc2-3cbe-49b5-f8ae-9bafdf1fb11b"
      },
      "outputs": [],
      "source": [
        "shap.plots.waterfall(shap_values[idx])"
      ]
    },
    {
      "cell_type": "code",
      "execution_count": null,
      "metadata": {
        "colab": {
          "base_uri": "https://localhost:8080/"
        },
        "id": "mPTRZQdH755M",
        "outputId": "71fbdf2b-7b24-4f2e-d418-f768a2e0cd87"
      },
      "outputs": [],
      "source": [
        "model.predict(sample.iloc[[idx], :])"
      ]
    }
  ],
  "metadata": {
    "colab": {
      "provenance": []
    },
    "kernelspec": {
      "display_name": "Python 3.10.5 ('venv': venv)",
      "language": "python",
      "name": "python3"
    },
    "language_info": {
      "codemirror_mode": {
        "name": "ipython",
        "version": 3
      },
      "file_extension": ".py",
      "mimetype": "text/x-python",
      "name": "python",
      "nbconvert_exporter": "python",
      "pygments_lexer": "ipython3",
      "version": "3.10.5"
    },
    "vscode": {
      "interpreter": {
        "hash": "67ac3b1c76e26abdf541a3ec89cf7b8888ac561dcd18b19d8f31c28d1ea15b9f"
      }
    }
  },
  "nbformat": 4,
  "nbformat_minor": 0
}
