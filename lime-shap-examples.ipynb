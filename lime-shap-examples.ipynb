{
  "cells": [
    {
      "cell_type": "markdown",
      "metadata": {},
      "source": [
        "# Interpreting Machine Learning models using LIME and SHAP\n",
        "This notebook briefly shows how to use LIME and SHAP to explain any kind of AI model.\n",
        "\n",
        "We will first cover LIME and then we will move on to SHAP.\n",
        "\n",
        "## LIME\n",
        "Import LIME and Vader"
      ]
    },
    {
      "cell_type": "code",
      "execution_count": null,
      "metadata": {
        "id": "kX-tXwKHsyvp"
      },
      "outputs": [],
      "source": [
        "# Import vader model and LIME for text\n",
        "from vaderSentiment.vaderSentiment import SentimentIntensityAnalyzer\n",
        "from lime.lime_text import LimeTextExplainer\n",
        "\n",
        "# Import numpy for formatting\n",
        "import numpy as np"
      ]
    },
    {
      "cell_type": "markdown",
      "metadata": {
        "id": "r7j1_s-SLeaT"
      },
      "source": [
        "The object containing the trained model must be compatible with LIME. In particular, the object needs to have a `predict_proba` method.\n",
        "\n",
        "Hence, we'll add a new method to the Vader class."
      ]
    },
    {
      "cell_type": "code",
      "execution_count": null,
      "metadata": {
        "id": "nzXbhJHO71Gi"
      },
      "outputs": [],
      "source": [
        "# Declare a function that can score multiple texts\n",
        "def predict_proba(self, texts):\n",
        "\n",
        "  # Initialize empty list\n",
        "  ret = []\n",
        "\n",
        "  # Iterate over texts\n",
        "  for text in texts:\n",
        "\n",
        "    # Get negative score\n",
        "    neg = self.polarity_scores(text).get('neg')\n",
        "\n",
        "    # Return two outputs: (neg) and (1 - neg)\n",
        "    ret.append([neg, 1 - neg])\n",
        "\n",
        "  # Return predictions\n",
        "  return np.array(ret)\n",
        "\n",
        "# Add the function as a method\n",
        "SentimentIntensityAnalyzer.predict_proba = predict_proba\n",
        "\n",
        "# Instantiate model\n",
        "vader = SentimentIntensityAnalyzer()"
      ]
    },
    {
      "cell_type": "markdown",
      "metadata": {
        "id": "cztXqdLgLkcE"
      },
      "source": [
        "Now that our `vader` object has a `predict_proba` method, we can use a LIME instance to explain the prediction made on a text.\n",
        "\n",
        "We will explain the prediction made by Vader on the following text:\n",
        "> I HATE Mondays! I missed the bus and forgot my lunch..."
      ]
    },
    {
      "cell_type": "code",
      "execution_count": null,
      "metadata": {
        "colab": {
          "base_uri": "https://localhost:8080/",
          "height": 237
        },
        "id": "V0UyITlfPNbu",
        "outputId": "8f0ce496-23f7-4be4-e3c0-0ff7fce6b6c4"
      },
      "outputs": [],
      "source": [
        "# Declare text\n",
        "my_angry_text = 'I HATE Mondays! I missed the bus and forgot my lunch...'\n",
        "\n",
        "# Instantiate explainer\n",
        "explainer = LimeTextExplainer(class_names=['negative', 'not-negative'])\n",
        "\n",
        "# Create explanation for text\n",
        "explanation = explainer.explain_instance(\n",
        "    my_angry_text,\n",
        "    vader.predict_proba,\n",
        "    num_features=4\n",
        ")\n",
        "\n",
        "# Show explanation\n",
        "explanation.show_in_notebook()"
      ]
    },
    {
      "cell_type": "markdown",
      "metadata": {
        "id": "PtUcXesSLnAH"
      },
      "source": [
        "## SHAP\n",
        "\n",
        "Just like LIME, SHAP is also used to explain AI models. However, SHAP requires objects to have a very specific object structure as well as an entire sample to work.\n",
        "\n",
        "SHAP is compatible with the most popular ML libraries, so instead of modifying VADER to match the structure expected by SHAP, we will use `sklearn` to fit a simple linear model on the diabetes dataset."
      ]
    },
    {
      "cell_type": "code",
      "execution_count": null,
      "metadata": {
        "id": "vzG7W1COr3uq"
      },
      "outputs": [],
      "source": [
        "# Import SHAP library\n",
        "import shap\n",
        "\n",
        "# Import pandas for data processing\n",
        "import pandas as pd\n",
        "\n",
        "# Import data and linear model from sklearn\n",
        "from sklearn.datasets import load_diabetes\n",
        "from sklearn.linear_model import LinearRegression"
      ]
    },
    {
      "cell_type": "markdown",
      "metadata": {},
      "source": [
        "Training and fine-tuning are not the main topics of this article. We will therefore train a very simple model and pretend it's the black-box model we're trying to explain."
      ]
    },
    {
      "cell_type": "code",
      "execution_count": null,
      "metadata": {
        "colab": {
          "base_uri": "https://localhost:8080/"
        },
        "id": "-pv87oPPr4Ga",
        "outputId": "4cd3e60c-18bf-494a-ff5f-04231680c3d2"
      },
      "outputs": [],
      "source": [
        "# Load features as pandas dataframe\n",
        "X = pd.DataFrame(\n",
        "    data=load_diabetes()['data'],\n",
        "    columns=load_diabetes()['feature_names']\n",
        ")\n",
        "\n",
        "# Load target\n",
        "y = data=load_diabetes()['target']\n",
        "\n",
        "# Instantiate model\n",
        "model = LinearRegression()\n",
        "\n",
        "# Fit model to data\n",
        "model.fit(X=X, y=y)"
      ]
    },
    {
      "cell_type": "markdown",
      "metadata": {
        "id": "2GJk5Miuz6JH"
      },
      "source": [
        "As stated in the article, SHAP needs a sample to calculate each feature's shapley value. We will draw a sample of 200 observations and then print out the observed values of the 42nd patient as well as their predicted score.\n",
        "\n",
        "Note that we are choosing the 42nd individual for no reason in particular! We could choose any other observation in the sample."
      ]
    },
    {
      "cell_type": "code",
      "execution_count": null,
      "metadata": {
        "id": "ePl3ODlE0Xs-"
      },
      "outputs": [],
      "source": [
        "# Draw sample of 200 observations\n",
        "sample = shap.utils.sample(\n",
        "    X=X,\n",
        "    nsamples=200,\n",
        "    random_state=0\n",
        ")\n",
        "\n",
        "# Pick 42nd observation from sample to explain\n",
        "idx = 42\n",
        "\n",
        "# Print 42nd observation\n",
        "print(\n",
        "    f'Observed features of observation number {idx}:\\n',\n",
        "    sample.iloc[[idx], :],\n",
        "    sep=''\n",
        ")\n",
        "\n",
        "# Print predicted value made on 42nd observation\n",
        "print(\n",
        "    f'\\n\\nPredicted severity of the disease for patient number {idx}:\\n',\n",
        "    model.predict(sample.iloc[[idx], :]),\n",
        "    sep=''\n",
        ")"
      ]
    },
    {
      "cell_type": "markdown",
      "metadata": {},
      "source": [
        "We will now instantiate the SHAP explainer using the sample we drew and plot a waterfall figure to understand how each of the 10 features affects the prediction made by the model on this particular observation."
      ]
    },
    {
      "cell_type": "code",
      "execution_count": null,
      "metadata": {},
      "outputs": [],
      "source": [
        "# Instantiate explainer\n",
        "explainer = shap.Explainer(\n",
        "    model=model.predict,\n",
        "    masker=sample\n",
        ")\n",
        "\n",
        "# Calculate SHAP values using sample\n",
        "shap_values = explainer(sample)\n",
        "\n",
        "# Waterfall plot\n",
        "shap.plots.waterfall(shap_values=shap_values[idx])"
      ]
    },
    {
      "cell_type": "markdown",
      "metadata": {
        "id": "QObTIk1Px94A"
      },
      "source": [
        "**NOTE:** Remember that explanations made by LIME and SHAP are **local**.\n",
        "\n",
        "The plot tells us that `s5` is the most important feature and had a negative impact on the prediction; `s1` was the second most important feature and also had a negative effect on the prediction; etc.\n",
        "\n",
        "In particular, `bmi` was the fifth most important feature and had a positive impact on the prediction made by the model! This means that for the 42nd patient, their high body mass index increased the predicted severity of their diabetes.\n",
        "\n",
        "Each feature's SHAP value is represented by the arrow. To see where these numbers come from, we can print a *partial dependence plot*. In this example, we will focus on the `bmi` variable (though we could choose any other feature used by the model)."
      ]
    },
    {
      "cell_type": "code",
      "execution_count": null,
      "metadata": {},
      "outputs": [],
      "source": [
        "# Make a partial dependence plot\n",
        "shap.partial_dependence_plot(\n",
        "    ind='bmi',\n",
        "    model=model.predict,\n",
        "    data=sample,\n",
        "    model_expected_value=True,\n",
        "    feature_expected_value=True,\n",
        "    ice=False,\n",
        "    shap_values=shap_values[idx:idx+1,:]\n",
        ")"
      ]
    },
    {
      "cell_type": "markdown",
      "metadata": {},
      "source": [
        "The above plot tells us that the SHAP value for `bmi` comes from the difference between $\\mathbb{E}\\big[f(X | bmi=0.015)\\big]$ and $\\mathbb{E}\\big[f(X)\\big]$.\n",
        "\n",
        "The relationship between partial dependence plots and SHAP values only holds for linear additive models. However, the idea remains the same for other models.\n",
        "\n",
        "In a nutshell, the SHAP value of a feature is an measure of what would happen to the prediction if the feature in question was not observable."
      ]
    }
  ],
  "metadata": {
    "colab": {
      "provenance": []
    },
    "kernelspec": {
      "display_name": "Python 3.10.5 ('venv': venv)",
      "language": "python",
      "name": "python3"
    },
    "language_info": {
      "codemirror_mode": {
        "name": "ipython",
        "version": 3
      },
      "file_extension": ".py",
      "mimetype": "text/x-python",
      "name": "python",
      "nbconvert_exporter": "python",
      "pygments_lexer": "ipython3",
      "version": "3.10.5"
    },
    "vscode": {
      "interpreter": {
        "hash": "67ac3b1c76e26abdf541a3ec89cf7b8888ac561dcd18b19d8f31c28d1ea15b9f"
      }
    }
  },
  "nbformat": 4,
  "nbformat_minor": 0
}
